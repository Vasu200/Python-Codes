{
 "cells": [
  {
   "cell_type": "code",
   "execution_count": 1,
   "id": "0dd9fd23",
   "metadata": {},
   "outputs": [],
   "source": [
    "#Modules"
   ]
  },
  {
   "cell_type": "code",
   "execution_count": 2,
   "id": "9b23d7b2",
   "metadata": {},
   "outputs": [],
   "source": [
    "from collections import Counter"
   ]
  },
  {
   "cell_type": "code",
   "execution_count": 3,
   "id": "03277cd9",
   "metadata": {},
   "outputs": [],
   "source": [
    "mylist = [1,1,1,2,2,2,2,3,2,4,1,5,2,1,3,4,3]"
   ]
  },
  {
   "cell_type": "code",
   "execution_count": 4,
   "id": "7b2b5776",
   "metadata": {},
   "outputs": [
    {
     "data": {
      "text/plain": [
       "Counter({1: 5, 2: 6, 3: 3, 4: 2, 5: 1})"
      ]
     },
     "execution_count": 4,
     "metadata": {},
     "output_type": "execute_result"
    }
   ],
   "source": [
    "Counter(mylist)"
   ]
  },
  {
   "cell_type": "code",
   "execution_count": 5,
   "id": "94139bcd",
   "metadata": {},
   "outputs": [],
   "source": [
    "mylist=['a','b','a','a','b',1,1,2,3,3,4,5,1,1,2,3]"
   ]
  },
  {
   "cell_type": "code",
   "execution_count": 6,
   "id": "e01a78e0",
   "metadata": {},
   "outputs": [
    {
     "data": {
      "text/plain": [
       "Counter({'a': 3, 'b': 2, 1: 4, 2: 2, 3: 3, 4: 1, 5: 1})"
      ]
     },
     "execution_count": 6,
     "metadata": {},
     "output_type": "execute_result"
    }
   ],
   "source": [
    "Counter(mylist)"
   ]
  },
  {
   "cell_type": "code",
   "execution_count": 7,
   "id": "94fe539e",
   "metadata": {},
   "outputs": [],
   "source": [
    "Sentence = 'how is it you are so great this is so much fun luffy luffy'"
   ]
  },
  {
   "cell_type": "code",
   "execution_count": 13,
   "id": "b218549b",
   "metadata": {},
   "outputs": [
    {
     "data": {
      "text/plain": [
       "Counter({'h': 3,\n",
       "         'o': 4,\n",
       "         'w': 1,\n",
       "         ' ': 13,\n",
       "         'i': 4,\n",
       "         's': 5,\n",
       "         't': 3,\n",
       "         'y': 3,\n",
       "         'u': 5,\n",
       "         'a': 2,\n",
       "         'r': 2,\n",
       "         'e': 2,\n",
       "         'g': 1,\n",
       "         'm': 1,\n",
       "         'c': 1,\n",
       "         'f': 5,\n",
       "         'n': 1,\n",
       "         'l': 2})"
      ]
     },
     "execution_count": 13,
     "metadata": {},
     "output_type": "execute_result"
    }
   ],
   "source": [
    "Counter(Sentence.lower(),split())"
   ]
  },
  {
   "cell_type": "code",
   "execution_count": 14,
   "id": "0327d76d",
   "metadata": {},
   "outputs": [],
   "source": [
    "#note list is not required for counter it just gives the dictionary of recurring objects"
   ]
  },
  {
   "cell_type": "code",
   "execution_count": 15,
   "id": "858a1f20",
   "metadata": {},
   "outputs": [],
   "source": [
    "c = 'sdasdasdwscsacwdawdad'"
   ]
  },
  {
   "cell_type": "code",
   "execution_count": 16,
   "id": "ad9fecc2",
   "metadata": {},
   "outputs": [],
   "source": [
    "a = Counter(c)"
   ]
  },
  {
   "cell_type": "code",
   "execution_count": 17,
   "id": "dcd286f5",
   "metadata": {},
   "outputs": [
    {
     "data": {
      "text/plain": [
       "[('d', 6), ('s', 5), ('a', 5), ('w', 3), ('c', 2)]"
      ]
     },
     "execution_count": 17,
     "metadata": {},
     "output_type": "execute_result"
    }
   ],
   "source": [
    "a.most_common()"
   ]
  },
  {
   "cell_type": "code",
   "execution_count": 21,
   "id": "bb626af8",
   "metadata": {},
   "outputs": [
    {
     "data": {
      "text/plain": [
       "['s', 'd', 'a', 'w', 'c']"
      ]
     },
     "execution_count": 21,
     "metadata": {},
     "output_type": "execute_result"
    }
   ],
   "source": [
    "list(a)"
   ]
  },
  {
   "cell_type": "code",
   "execution_count": 22,
   "id": "d74cabb8",
   "metadata": {},
   "outputs": [
    {
     "data": {
      "text/plain": [
       "{'a', 'c', 'd', 's', 'w'}"
      ]
     },
     "execution_count": 22,
     "metadata": {},
     "output_type": "execute_result"
    }
   ],
   "source": [
    "set(a)"
   ]
  },
  {
   "cell_type": "code",
   "execution_count": 23,
   "id": "43157a5e",
   "metadata": {},
   "outputs": [
    {
     "data": {
      "text/plain": [
       "{'s': 5, 'd': 6, 'a': 5, 'w': 3, 'c': 2}"
      ]
     },
     "execution_count": 23,
     "metadata": {},
     "output_type": "execute_result"
    }
   ],
   "source": [
    "dict(a)"
   ]
  },
  {
   "cell_type": "code",
   "execution_count": 24,
   "id": "7209a5b5",
   "metadata": {},
   "outputs": [
    {
     "data": {
      "text/plain": [
       "Counter({'s': 5, 'd': 6, 'a': 5, 'w': 3, 'c': 2})"
      ]
     },
     "execution_count": 24,
     "metadata": {},
     "output_type": "execute_result"
    }
   ],
   "source": [
    "a"
   ]
  },
  {
   "cell_type": "code",
   "execution_count": 25,
   "id": "2e1c14fd",
   "metadata": {},
   "outputs": [
    {
     "data": {
      "text/plain": [
       "[('d', 6), ('s', 5), ('a', 5)]"
      ]
     },
     "execution_count": 25,
     "metadata": {},
     "output_type": "execute_result"
    }
   ],
   "source": [
    "a.most_common(3)"
   ]
  },
  {
   "cell_type": "code",
   "execution_count": 26,
   "id": "e261673b",
   "metadata": {},
   "outputs": [],
   "source": [
    "from collections import defaultdict"
   ]
  },
  {
   "cell_type": "code",
   "execution_count": 38,
   "id": "64310f15",
   "metadata": {},
   "outputs": [],
   "source": [
    "d1 = {'d':15, 'f':6}"
   ]
  },
  {
   "cell_type": "code",
   "execution_count": 39,
   "id": "a2f0a365",
   "metadata": {},
   "outputs": [
    {
     "data": {
      "text/plain": [
       "15"
      ]
     },
     "execution_count": 39,
     "metadata": {},
     "output_type": "execute_result"
    }
   ],
   "source": [
    "d1['d']"
   ]
  },
  {
   "cell_type": "code",
   "execution_count": 52,
   "id": "e9a0628f",
   "metadata": {},
   "outputs": [],
   "source": [
    "d = defaultdict(lambda:0)"
   ]
  },
  {
   "cell_type": "code",
   "execution_count": 53,
   "id": "f0e15224",
   "metadata": {},
   "outputs": [],
   "source": [
    "d['d'] = 4"
   ]
  },
  {
   "cell_type": "code",
   "execution_count": 55,
   "id": "225a348a",
   "metadata": {},
   "outputs": [],
   "source": [
    "d['or'] = 7\n"
   ]
  },
  {
   "cell_type": "code",
   "execution_count": 56,
   "id": "63b9948b",
   "metadata": {},
   "outputs": [
    {
     "data": {
      "text/plain": [
       "0"
      ]
     },
     "execution_count": 56,
     "metadata": {},
     "output_type": "execute_result"
    }
   ],
   "source": [
    "d['wrong']"
   ]
  },
  {
   "cell_type": "code",
   "execution_count": 57,
   "id": "72ec2cca",
   "metadata": {},
   "outputs": [
    {
     "data": {
      "text/plain": [
       "4"
      ]
     },
     "execution_count": 57,
     "metadata": {},
     "output_type": "execute_result"
    }
   ],
   "source": [
    "d['d']"
   ]
  },
  {
   "cell_type": "code",
   "execution_count": 58,
   "id": "2d3ffc62",
   "metadata": {},
   "outputs": [
    {
     "data": {
      "text/plain": [
       "0"
      ]
     },
     "execution_count": 58,
     "metadata": {},
     "output_type": "execute_result"
    }
   ],
   "source": [
    "d['a']"
   ]
  },
  {
   "cell_type": "code",
   "execution_count": 59,
   "id": "cccabbaf",
   "metadata": {},
   "outputs": [],
   "source": [
    "from collections import namedtuple"
   ]
  },
  {
   "cell_type": "code",
   "execution_count": 61,
   "id": "e9b39a67",
   "metadata": {},
   "outputs": [],
   "source": [
    "dog = namedtuple('Dog',['breed','age','name'])"
   ]
  },
  {
   "cell_type": "code",
   "execution_count": 63,
   "id": "578e65cb",
   "metadata": {},
   "outputs": [],
   "source": [
    "sam = dog(breed='Husky',age=10,name='pochita')"
   ]
  },
  {
   "cell_type": "code",
   "execution_count": 64,
   "id": "b16045fd",
   "metadata": {},
   "outputs": [
    {
     "data": {
      "text/plain": [
       "'Husky'"
      ]
     },
     "execution_count": 64,
     "metadata": {},
     "output_type": "execute_result"
    }
   ],
   "source": [
    "sam.breed"
   ]
  },
  {
   "cell_type": "code",
   "execution_count": 65,
   "id": "eede5cb6",
   "metadata": {},
   "outputs": [
    {
     "data": {
      "text/plain": [
       "10"
      ]
     },
     "execution_count": 65,
     "metadata": {},
     "output_type": "execute_result"
    }
   ],
   "source": [
    "sam.age"
   ]
  },
  {
   "cell_type": "code",
   "execution_count": 67,
   "id": "5f73f2bf",
   "metadata": {},
   "outputs": [],
   "source": [
    "student = namedtuple('student',['name','classes','section'])"
   ]
  },
  {
   "cell_type": "code",
   "execution_count": 68,
   "id": "96c06804",
   "metadata": {},
   "outputs": [],
   "source": [
    "vasu = student(name = 'Vasu' , classes = 'X' , section = 'A')"
   ]
  },
  {
   "cell_type": "code",
   "execution_count": 69,
   "id": "106e750d",
   "metadata": {},
   "outputs": [
    {
     "data": {
      "text/plain": [
       "'Vasu'"
      ]
     },
     "execution_count": 69,
     "metadata": {},
     "output_type": "execute_result"
    }
   ],
   "source": [
    "vasu.name"
   ]
  },
  {
   "cell_type": "code",
   "execution_count": 70,
   "id": "d3c6aac6",
   "metadata": {},
   "outputs": [
    {
     "data": {
      "text/plain": [
       "'X'"
      ]
     },
     "execution_count": 70,
     "metadata": {},
     "output_type": "execute_result"
    }
   ],
   "source": [
    "vasu.classes"
   ]
  },
  {
   "cell_type": "code",
   "execution_count": 71,
   "id": "7c2f193d",
   "metadata": {},
   "outputs": [
    {
     "data": {
      "text/plain": [
       "'A'"
      ]
     },
     "execution_count": 71,
     "metadata": {},
     "output_type": "execute_result"
    }
   ],
   "source": [
    "vasu.section"
   ]
  },
  {
   "cell_type": "code",
   "execution_count": null,
   "id": "acee1b55",
   "metadata": {},
   "outputs": [],
   "source": []
  }
 ],
 "metadata": {
  "kernelspec": {
   "display_name": "Python 3 (ipykernel)",
   "language": "python",
   "name": "python3"
  },
  "language_info": {
   "codemirror_mode": {
    "name": "ipython",
    "version": 3
   },
   "file_extension": ".py",
   "mimetype": "text/x-python",
   "name": "python",
   "nbconvert_exporter": "python",
   "pygments_lexer": "ipython3",
   "version": "3.10.9"
  }
 },
 "nbformat": 4,
 "nbformat_minor": 5
}
