{
 "cells": [
  {
   "cell_type": "markdown",
   "id": "a94fde76",
   "metadata": {},
   "source": [
    "**Hacker Rank Practice**"
   ]
  },
  {
   "cell_type": "code",
   "execution_count": 2,
   "id": "3f75172c",
   "metadata": {},
   "outputs": [
    {
     "name": "stdout",
     "output_type": "stream",
     "text": [
      "1\n",
      "1\n",
      "1\n",
      "2\n",
      "[[0, 0, 0], [0, 0, 1], [0, 1, 0], [1, 0, 0], [1, 1, 1]]\n"
     ]
    }
   ],
   "source": [
    "#List Comprehension\n",
    "#Print a list of all possible coordinates given by on a 3D grid where the sum of x+y+z is not equal to n\n",
    "#Used list comprehensions rather than multiple loops, as a learning exercise.\n",
    "x = int(input())\n",
    "y = int(input())\n",
    "z = int(input())\n",
    "n = int(input())\n",
    "a = [[i,j,k] for i in range(x+1) for j in range(y+1) for k in range(z+1) if n!=i+j+k]\n",
    "print(a)    "
   ]
  },
  {
   "cell_type": "code",
   "execution_count": 4,
   "id": "d59bb454",
   "metadata": {},
   "outputs": [
    {
     "name": "stdout",
     "output_type": "stream",
     "text": [
      "2\n",
      "Not Weird\n"
     ]
    }
   ],
   "source": [
    "#If-else\n",
    "n = int(input().strip())\n",
    "if n%2==1:\n",
    "    print(\"Weird\")\n",
    "elif n in range(2,6) and n%2 == 0:\n",
    "    print(\"Not Weird\")\n",
    "elif n in range(6,21) and n%2 == 0:\n",
    "    print(\"Weird\")\n",
    "elif n > 20 and n%2 == 0:\n",
    "    print(\"Not Weird\")  "
   ]
  },
  {
   "cell_type": "code",
   "execution_count": 6,
   "id": "d3215375",
   "metadata": {},
   "outputs": [
    {
     "name": "stdout",
     "output_type": "stream",
     "text": [
      "2\n",
      "0\n",
      "1\n"
     ]
    }
   ],
   "source": [
    "#Simple Loop\n",
    "n = int(input())\n",
    "for i in range(0,n):\n",
    "    print(i**2)"
   ]
  },
  {
   "cell_type": "code",
   "execution_count": 7,
   "id": "1e99542a",
   "metadata": {},
   "outputs": [
    {
     "name": "stdout",
     "output_type": "stream",
     "text": [
      "2\n",
      "False\n"
     ]
    }
   ],
   "source": [
    "# Given a year, determine whether it is a leap year. If it is a leap year, return the Boolean True, otherwise return False.\n",
    "def is_leap(year):\n",
    "    leap = False\n",
    "    if year%400 == 0:\n",
    "        return not(leap)\n",
    "    if year%4 == 0:  #We didn't use else if as we want to execute both the condition\n",
    "        if year%100 == 0: #Also the condition for the question is that if it is divisible by 100 and 4 then it is not a leap year\n",
    "            return leap\n",
    "        else:             #if it is only divisible by then its not a leapyear\n",
    "            return not(leap)\n",
    "    else:                 \n",
    "        return leap\n",
    "year = int(input())\n",
    "print(is_leap(year))"
   ]
  },
  {
   "cell_type": "code",
   "execution_count": 8,
   "id": "a1394410",
   "metadata": {},
   "outputs": [
    {
     "name": "stdout",
     "output_type": "stream",
     "text": [
      "5\n",
      "2 3 6 6 5\n",
      "5\n"
     ]
    }
   ],
   "source": [
    "# The participants' score sheet for your University Sports Day, you are required to find the runner-up score.Given N scores\n",
    "n = int(input())\n",
    "arr = map(int, input().split())\n",
    "arr1 = list(set(arr)) # to find the secound maximum we convert it into set(to remove duplicatess)  \n",
    "arr1.sort(reverse=True) # Then turn it to list to make it a mutable object so we can reverse its order \n",
    "print(arr1[1]) # and used indexing to"
   ]
  },
  {
   "cell_type": "code",
   "execution_count": null,
   "id": "9d5beb53",
   "metadata": {},
   "outputs": [],
   "source": []
  }
 ],
 "metadata": {
  "kernelspec": {
   "display_name": "Python 3 (ipykernel)",
   "language": "python",
   "name": "python3"
  },
  "language_info": {
   "codemirror_mode": {
    "name": "ipython",
    "version": 3
   },
   "file_extension": ".py",
   "mimetype": "text/x-python",
   "name": "python",
   "nbconvert_exporter": "python",
   "pygments_lexer": "ipython3",
   "version": "3.10.9"
  }
 },
 "nbformat": 4,
 "nbformat_minor": 5
}
