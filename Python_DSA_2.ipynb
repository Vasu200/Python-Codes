{
 "cells": [
  {
   "cell_type": "markdown",
   "id": "3f7b6f41",
   "metadata": {},
   "source": [
    "# Python DSA 2"
   ]
  },
  {
   "cell_type": "markdown",
   "id": "0562f4b5",
   "metadata": {},
   "source": [
    "### Binary Search"
   ]
  },
  {
   "cell_type": "code",
   "execution_count": 6,
   "id": "052a1efd",
   "metadata": {},
   "outputs": [
    {
     "name": "stdout",
     "output_type": "stream",
     "text": [
      "4\n"
     ]
    }
   ],
   "source": [
    "# Binary Search is a searching algortihm used in a sorted array which repeatedly divides the search interval in half interval\n",
    "def BinaraySearch(arr,n,k):\n",
    "    # used two pointers approach\n",
    "    l = 0\n",
    "    r = n - 1\n",
    "    # used while loop \n",
    "    while r>l:\n",
    "        mid = l + (r-l)//2\n",
    "        # if k is a middle element\n",
    "        if arr[mid]==k:\n",
    "            return arr[mid]\n",
    "        # if k is less then ignore the first half of the array\n",
    "        elif arr[mid] > k:\n",
    "            r = mid - 1\n",
    "        # if k is greater then ignore the secound half of the array\n",
    "        elif arr[mid] < k:\n",
    "            l = mid + 1\n",
    "    return -1\n",
    "arr = [1,2,3,4,5]\n",
    "n = len(arr)\n",
    "k = 2\n",
    "print(BinaraySearch(arr,n,4))\n",
    "# Time Complexity O(log(N))\n",
    "# Space Complexity O(1)\n",
    "# Advantage : It is faster than the linear search especially for large arrays\n",
    "# Disadvantage : It is only used in sorted data structure"
   ]
  },
  {
   "cell_type": "code",
   "execution_count": 11,
   "id": "5d03da61",
   "metadata": {},
   "outputs": [
    {
     "name": "stdout",
     "output_type": "stream",
     "text": [
      "2\n"
     ]
    }
   ],
   "source": [
    "# Given a number need to find the square root with the help of binary search\n",
    "# if n is not a prefect return a floor value\n",
    "def BinarySearchSquareRoot(n):\n",
    "    if n == 0 or n == 1:\n",
    "        return n\n",
    "    else:\n",
    "        l = 2\n",
    "        r = n\n",
    "        while l <= r:\n",
    "            mid = l + (r-l)//2\n",
    "            if mid**2 == n:\n",
    "                return mid\n",
    "            elif mid**2 < n:\n",
    "                l = mid + 1\n",
    "            elif mid**2 > n:\n",
    "                r = mid - 1\n",
    "    return (l - 1)\n",
    "n = 7\n",
    "print(BinarySearchSquareRoot(n))\n",
    "            "
   ]
  },
  {
   "cell_type": "code",
   "execution_count": 39,
   "id": "e67e699a",
   "metadata": {},
   "outputs": [
    {
     "name": "stdout",
     "output_type": "stream",
     "text": [
      "4\n"
     ]
    }
   ],
   "source": [
    "# Search in the rotated sorted array\n",
    "# we use binary search to search and return the index of the element found\n",
    "# we eliminate one half and search for the sorted part and then search for the element in the array\n",
    "def SearchRotatedArray(arr,n,k):\n",
    "    l = 0\n",
    "    r = n-1\n",
    "    while l <= r:\n",
    "        mid = l + (r-l)//2 \n",
    "        if arr[mid] == k: # if its the target value return the index\n",
    "            return mid # retrun the index element\n",
    "        elif arr[mid] >= arr[l]: # if middle value greater than lower value then this is sorted part\n",
    "            if arr[mid] >= k and arr[l] <= k:\n",
    "                r = mid - 1\n",
    "            else: \n",
    "                l = mid + 1\n",
    "        else: # this means right part is sorted as lower value is greater than middle value\n",
    "            if arr[mid] <= k and arr[r] >= k:\n",
    "                l = mid + 1\n",
    "            else: \n",
    "                r = mid - 1\n",
    "    return -1\n",
    "arr = [100,-2,6,10,11]\n",
    "n = len(arr)\n",
    "print(SearchRotatedArray(arr,n,11))"
   ]
  },
  {
   "cell_type": "code",
   "execution_count": 43,
   "id": "1723899b",
   "metadata": {},
   "outputs": [
    {
     "name": "stdout",
     "output_type": "stream",
     "text": [
      "5\n"
     ]
    }
   ],
   "source": [
    "# Given an Sorted Array with n numbers.\n",
    "# such that every number occured twice except one\n",
    "# search that number\n",
    "# Brute Force\n",
    "def one_occurance(arr,n):\n",
    "    if n == 1: # edge case if n contain only one element\n",
    "        return arr[0]\n",
    "    # stepwise 2 as we are comparing all the twice occuring element,otherwise it would give wrong answer\n",
    "    for i in range(0,n-1,2):\n",
    "        if arr[i] != arr[i+1]:\n",
    "            return arr[i]\n",
    "    return -1\n",
    "arr = [2,2,5,10,10]\n",
    "print(one_occurance(arr,len(arr)))"
   ]
  },
  {
   "cell_type": "code",
   "execution_count": 47,
   "id": "064a0a33",
   "metadata": {},
   "outputs": [
    {
     "name": "stdout",
     "output_type": "stream",
     "text": [
      "5\n"
     ]
    }
   ],
   "source": [
    "# hashmap approach\n",
    "def one_occurance(arr,n):\n",
    "    if n == 1: # edge case if n contain only one element\n",
    "        return arr[0]\n",
    "    else:\n",
    "        d = dict()\n",
    "        for i in range(n):\n",
    "            if arr[i] in d:\n",
    "                d[arr[i]] += 1\n",
    "            else:\n",
    "                d[arr[i]] = 1\n",
    "    for i in d.keys():\n",
    "        if d[i] == 1:\n",
    "            return i\n",
    "        \n",
    "arr = [2,2,5,10,10]\n",
    "print(one_occurance(arr,len(arr)))"
   ]
  },
  {
   "cell_type": "code",
   "execution_count": 50,
   "id": "321043e8",
   "metadata": {},
   "outputs": [
    {
     "name": "stdout",
     "output_type": "stream",
     "text": [
      "5\n"
     ]
    }
   ],
   "source": [
    "# Bit Manipulation XOR approach\n",
    "def one_occurance(arr,n):\n",
    "    xor1 = 0\n",
    "    for i in range(n):\n",
    "        xor1 = arr[i] ^ xor1\n",
    "    return xor1\n",
    "arr = [2,2,5,10,10]\n",
    "print(one_occurance(arr,len(arr)))"
   ]
  },
  {
   "cell_type": "code",
   "execution_count": 60,
   "id": "5b4ac039",
   "metadata": {},
   "outputs": [
    {
     "name": "stdout",
     "output_type": "stream",
     "text": [
      "5\n"
     ]
    }
   ],
   "source": [
    "# Binary Serach Approach\n",
    "# Since this is a sorted array\n",
    "# We can immediately thought of a binary search approach by keeping in mind of elimination of left and right\n",
    "# Here element are repeating twice like a pair (1,1),(2,2)(3,3) and one element is single\n",
    "# We can classify indices as (even,odd),(even,odd) (element with single paired) (odd,even),(odd,even)........\n",
    "# So how de we eliminate left and right half?\n",
    "# we will take a element as mid if the element's even side is equal then we eliminate the left half\n",
    "# or else the odd side is equal then we eliminate the right half\n",
    "def one_occurance(arr,n):\n",
    "    if n == 1: \n",
    "        return arr[0]\n",
    "    # I removed additional testcases for scalability of the code\n",
    "    # Also as we are checking for left and right side of an element it is plausible\n",
    "    if arr[n-2] != arr[n-1]:\n",
    "        return arr[n-1]\n",
    "    if arr[0] != arr[1]:\n",
    "        return arr[0]\n",
    "    l = 1\n",
    "    r = n - 2\n",
    "    while r>=l: # try to be consistent with the equal to in binary search algorithm\n",
    "        m = l + (r-l)//2\n",
    "        # if both the left or right side is not equal that mid element then that is occuring only once\n",
    "        if (arr[m] != arr[m-1]) and (arr[m] != arr[m+1]): \n",
    "            return arr[m]\n",
    "        # if the mid index is odd and left side is equal or mid index is even and right side is equal\n",
    "        elif (m%2 == 1 and arr[m]==arr[m-1]) or (m%2 == 0 and arr[m] == arr[m+1]):\n",
    "            l = m + 1\n",
    "        # if the mid index is odd and right side is equal or mid index is odd and left side is equal\n",
    "        else:\n",
    "            r = m - 1\n",
    "    return -1\n",
    "arr = [2,2,5,10,10,6,6]\n",
    "print(one_occurance(arr,len(arr)))       "
   ]
  },
  {
   "cell_type": "code",
   "execution_count": null,
   "id": "f0445db7",
   "metadata": {},
   "outputs": [],
   "source": []
  }
 ],
 "metadata": {
  "kernelspec": {
   "display_name": "Python 3 (ipykernel)",
   "language": "python",
   "name": "python3"
  },
  "language_info": {
   "codemirror_mode": {
    "name": "ipython",
    "version": 3
   },
   "file_extension": ".py",
   "mimetype": "text/x-python",
   "name": "python",
   "nbconvert_exporter": "python",
   "pygments_lexer": "ipython3",
   "version": "3.10.9"
  }
 },
 "nbformat": 4,
 "nbformat_minor": 5
}
