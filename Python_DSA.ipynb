{
 "cells": [
  {
   "cell_type": "markdown",
   "id": "25014727",
   "metadata": {},
   "source": [
    "# DSA WITH PYTHON"
   ]
  },
  {
   "cell_type": "code",
   "execution_count": 4,
   "id": "76b9a289",
   "metadata": {},
   "outputs": [
    {
     "name": "stdout",
     "output_type": "stream",
     "text": [
      "3\n",
      "6\n",
      "10 25 -12 -6 20 20 \n",
      "20\n",
      "5\n",
      "-12 14 -15 -17 20\n",
      "14\n",
      "5\n",
      "-20 -30 40 25 10\n",
      "25\n"
     ]
    }
   ],
   "source": [
    "# Array Secound largest element\n",
    "def findSecondLargest(sequenceOfNumbers):\n",
    "    a = list(set(sequenceOfNumbers))\n",
    "    a.sort(reverse=True)\n",
    "    if len(a) == 1 :\n",
    "        return -1\n",
    "    else:\n",
    "        return a[1]\n",
    "# Taking input using fast I/O.\n",
    "def takeInput():\n",
    "    n = int(input())\n",
    "\n",
    "    sequenceOfNumbers = list(map(int, input().strip().split(\" \")))\n",
    "\n",
    "    return sequenceOfNumbers, n\n",
    "t = int(input())\n",
    "while t:\n",
    "    sequenceOfNumbers, n = takeInput()\n",
    "    print(findSecondLargest(sequenceOfNumbers))\n",
    "    t = t-1"
   ]
  },
  {
   "cell_type": "code",
   "execution_count": 5,
   "id": "bbe34dcd",
   "metadata": {},
   "outputs": [
    {
     "name": "stdout",
     "output_type": "stream",
     "text": [
      "1 2 3 4 5\n",
      "2\n",
      "[3, 4, 5, 1, 2]\n"
     ]
    }
   ],
   "source": [
    "#TO ROTATE AN ARRAY BY k by left and space seperated values\n",
    "arr=list(map(int, input().split()))\n",
    "k=int(input())\n",
    "if k == 0:\n",
    "    print(arr)\n",
    "else:\n",
    "    a = arr[k:] + arr[:k] # Used list slicing to rotate the array\n",
    "    print(a) \n"
   ]
  },
  {
   "cell_type": "code",
   "execution_count": 6,
   "id": "f85a72f0",
   "metadata": {},
   "outputs": [
    {
     "name": "stdout",
     "output_type": "stream",
     "text": [
      "1 2 3\n",
      "2\n",
      "[2, 3, 1]\n"
     ]
    }
   ],
   "source": [
    "#To Rotate it with list comprehension\n",
    "arr = list(map(int, input().split()))\n",
    "k = int(input())\n",
    "arr1 = [arr[(i-k) % len(arr)] for i,x in enumerate(arr)] # rotate to the right(for left(i+k))\n",
    "print(arr1)"
   ]
  },
  {
   "cell_type": "code",
   "execution_count": null,
   "id": "ebf829df",
   "metadata": {},
   "outputs": [
    {
     "name": "stdout",
     "output_type": "stream",
     "text": [
      "7\n",
      "3\n",
      "8 4 6\n",
      "True\n",
      "3\n",
      "8 4 2\n",
      "False\n",
      "6\n",
      "-2 7 -1 0 1 2\n",
      "True\n"
     ]
    }
   ],
   "source": [
    "#To find non-decreasing array \n",
    "def isPossible(arr:list,n:int):\n",
    "    count = 0\n",
    "    for i in range(0,n-1): # to not get index out of range error we used 0 to n-1 as it will not affect i+1\n",
    "        if arr[i+1] <= arr[i]:\n",
    "            count += 1\n",
    "        else:\n",
    "            count = 0\n",
    "            break\n",
    "    if count > 0:\n",
    "        print(\"False\")\n",
    "    else:\n",
    "        print(\"True\")\n",
    "\n",
    "T = int(input())\n",
    "for _ in range(T):\n",
    "    N = int(input())\n",
    "    l=list(map(int, input().split()))\n",
    "    isPossible(l, N)"
   ]
  },
  {
   "cell_type": "code",
   "execution_count": 2,
   "id": "6aad90ba",
   "metadata": {},
   "outputs": [
    {
     "name": "stdout",
     "output_type": "stream",
     "text": [
      "7\n",
      "3\n",
      "8 4 6\n",
      "true\n",
      "3\n",
      "8 4 2\n",
      "false\n",
      "6\n",
      "-2 7 -1 0 1 2\n",
      "true\n",
      "5\n",
      "-10 10 0 10 3\n",
      "false\n",
      "1\n",
      "1000000\n",
      "true\n",
      "1\n",
      "-100000\n",
      "true\n",
      "1\n",
      "69\n",
      "true\n"
     ]
    }
   ],
   "source": [
    "#To find a decreasing array and modify it to create a non-decreasing array by changing one element\n",
    "def isPossible(arr:list,n:int):\n",
    "    count = 0\n",
    "    for i in range(n-1):\n",
    "        if arr[i] > arr[i+1]:\n",
    "            count += 1\n",
    "            if i>0: # to get the index after 0(i.e starting position)\n",
    "# If the current element is greater than the next element that means previous element is also greater than the next element as it is a decreasing array \n",
    "                if arr[i-1] > arr[i+1]:\n",
    "# Thus we replace the current element with the next element to give the next position \n",
    "                    arr[i+1] = arr[i]\n",
    "                else:\n",
    "#if the previous element is less than the next element of our current element then we will replace the previous element with the current element\n",
    "                    arr[i] = arr[i-1] \n",
    "    if count<=1: # to check the value after modification\n",
    "        print(\"true\")\n",
    "    else:\n",
    "        print(\"false\")\n",
    "T = int(input())\n",
    "for _ in range(T):\n",
    "    N = int(input())\n",
    "    l=list(map(int, input().split()))\n",
    "    isPossible(l, N)"
   ]
  },
  {
   "cell_type": "code",
   "execution_count": 1,
   "id": "da5e8ee7",
   "metadata": {},
   "outputs": [
    {
     "name": "stdout",
     "output_type": "stream",
     "text": [
      "3\n",
      "3\n",
      "1 2 0\n",
      "3\n",
      "4\n",
      "3 4 -1 1\n",
      "2\n",
      "5\n",
      "7 8 9 11 12\n",
      "1\n"
     ]
    }
   ],
   "source": [
    "#To find missing first positive integer in array\n",
    "def firstMissing(arr:list,n:int):\n",
    "    arr.sort() # first the array in ascending order\n",
    "    a=1 \n",
    "    for i in arr:\n",
    "        if i == a: # if the element equal to value of a  \n",
    "            a+=1 # then we will increment the value of a\n",
    "        elif(i>0 and i!=a): # as least +ve integer would be 1 so if the starting value is 2 and 1 not exist then the missing first integer would be 1\n",
    "            break\n",
    "    return a\n",
    "# Main Code\n",
    "t=int(input())\n",
    "\n",
    "for j in range(t):\n",
    "    n=int(input())\n",
    "    arr=[int(i) for i in input().split()]\n",
    "    ans = firstMissing(arr,n)\n",
    "    print(ans)"
   ]
  },
  {
   "cell_type": "code",
   "execution_count": 3,
   "id": "15e2cb0e",
   "metadata": {},
   "outputs": [
    {
     "name": "stdout",
     "output_type": "stream",
     "text": [
      "3\n",
      "3\n",
      "1 2 0\n",
      "3\n",
      "4\n",
      "3 4 -1 1\n",
      "2\n",
      "5\n",
      "7 8 9 11 12\n",
      "1\n"
     ]
    }
   ],
   "source": [
    "#To find missing first positive integer in array(2nd method)\n",
    "def firstMissing(arr:list,n:int):\n",
    "    a = [] # created a empty list which will only contain +ve integer\n",
    "    for i in range(n):\n",
    "        if arr[i]>0: \n",
    "            a.append(arr[i])\n",
    "    if not a: #if list is empty means only -ve integer hence 1 wil be least positive\n",
    "        return 1\n",
    "    else:\n",
    "        b = min(a) #if list is non empty find the min positive integer in the array\n",
    "        if b-1 > 0: #if 1 is not least positive integer then result must be 1 as the missing first integer\n",
    "            return 1\n",
    "    while b: # if 1 is in array then we will provide a infinite loop until it provides us a integer value which is missing\n",
    "        b = b+1\n",
    "        if b not in arr:\n",
    "            return b #hence least +ve value would be returned\n",
    "            break\n",
    "t=int(input()) # Note this code time complexity is high\n",
    "\n",
    "for j in range(t):\n",
    "    n=int(input())\n",
    "    arr=[int(i) for i in input().split()]\n",
    "    ans = firstMissing(arr,n)\n",
    "    print(ans)"
   ]
  },
  {
   "cell_type": "code",
   "execution_count": 4,
   "id": "936c5bc0",
   "metadata": {},
   "outputs": [
    {
     "name": "stdout",
     "output_type": "stream",
     "text": [
      "Hello I am Shreyashish Sengupta\n",
      "Sengupta Shreyashish am I Hello\n"
     ]
    }
   ],
   "source": [
    "#To reverse the string wordwise\n",
    "def reverseStringWordWise(string):\n",
    "    a = string.split()\n",
    "    return \" \".join(a[::-1])\n",
    "string = input()\n",
    "ans = reverseStringWordWise(string)\n",
    "print(ans)"
   ]
  },
  {
   "cell_type": "code",
   "execution_count": 11,
   "id": "10baa065",
   "metadata": {},
   "outputs": [
    {
     "name": "stdout",
     "output_type": "stream",
     "text": [
      "a2b2c2a2\n"
     ]
    }
   ],
   "source": [
    "#To encode the message of the string(Run length encoding)i.e aabbccaa output a2b2c2a2\n",
    "import itertools\n",
    "message = 'aabbccaa'\n",
    "x=itertools.groupby(message) # used python inbuilt groupby function in itertools module which takes keys and a key functin()\n",
    "c=[] \n",
    "for i,g in x:\n",
    "    c.append(\"\".join([i,str(len(list(g)))]))\n",
    "print(\"\".join(c))"
   ]
  },
  {
   "cell_type": "code",
   "execution_count": 2,
   "id": "0dc80f1a",
   "metadata": {},
   "outputs": [
    {
     "name": "stdout",
     "output_type": "stream",
     "text": [
      "min added parenthesis: 3\n"
     ]
    }
   ],
   "source": [
    "#To add minimum number of parenthesis in string pattern such that resulted string is valid \n",
    "pattern = ')((()'\n",
    "l_count = 0 # count of '(' \n",
    "r_count = 0 # count of ')'\n",
    "added = 0 # count of min no of brackets to add\n",
    "# To make valid parenthesis l_count > r_count as for each left bracket we need a right closing bracket \n",
    "for i in pattern:\n",
    "    if i == '(':  # We take the count of left bracket in bulk first \n",
    "        l_count += 1\n",
    "    elif i == ')':    \n",
    "        if l_count > r_count: # if there is a right count means its a valid parenthesis string\n",
    "            r_count += 1 # and we increase the right count\n",
    "        else:\n",
    "            added += 1 # means less count of left bracket need to add a bracket\n",
    "added += l_count - r_count # finalise the min count by substracting left - right count and adding added\n",
    "print(\"min added parenthesis:\",added) "
   ]
  },
  {
   "cell_type": "code",
   "execution_count": 3,
   "id": "422dab5c",
   "metadata": {},
   "outputs": [
    {
     "name": "stdout",
     "output_type": "stream",
     "text": [
      "5\n"
     ]
    }
   ],
   "source": [
    "#Add minimum muber of count to make a beautiful string i.e. alterante '0' and '1' in a binary string\n",
    "pattern = '01010010101'\n",
    "a = list(pattern)\n",
    "cnt_f = 0 #counting characters from left to right\n",
    "cnt_b = 0 #counting characters from right to left\n",
    "for i in range(len(a)):\n",
    "\tif a[i]==\"0\": # count all 0s in the str\n",
    "\t\tif i%2==0: # alternate count of 0 (0,2,4,6--)\n",
    "\t\t\tcnt_f += 1\n",
    "\t\telse: #(in odd count of 0s position)\n",
    "\t\t\tcnt_b += 1\n",
    "\telse: # count all 1s in the str\n",
    "\t\tif i%2 == 0:\n",
    "\t\t\tcnt_b += 1\n",
    "\t\telse: \n",
    "\t\t\tcnt_f += 1\n",
    "print(min(cnt_f,cnt_b))\n"
   ]
  },
  {
   "cell_type": "code",
   "execution_count": 7,
   "id": "04f464ca",
   "metadata": {},
   "outputs": [
    {
     "name": "stdout",
     "output_type": "stream",
     "text": [
      "1001\n"
     ]
    }
   ],
   "source": [
    "# Given a string find the next smallest palindrome\n",
    "from math import *\n",
    "s = '999'\n",
    "n = [int(i) for i in s] # convert it into a array containing integers\n",
    "c = 0 # for output flag variable\n",
    "# first we need to seperate the array in equal parts such that middle element acts as a mirror\n",
    "# one middle element if odd (there are two middle elements if even)\n",
    "# iterate with for loop in right side of the array\n",
    "for i in range(ceil(len(s)/2),len(s)):\n",
    "    if n[i] < n[len(s)-i-1]:  # [0 1 2 3 4] if 2>3 then it will operate make sense as we need 2 in the higher place\n",
    "        n[i] = n[len(s)-i-1]\n",
    "        for j in range(i,len(s)):\n",
    "            n[j] = n[len(s)-j-1]\n",
    "            c = 1 # to execute this as output\n",
    "            break\n",
    "    elif n[i]>n[len(s)-i-1]: # [0 1 2 3 4] if 3>2 break\n",
    "        break\n",
    "if c == 1: \n",
    "    n = [str(i) for i in n]\n",
    "    print(''.join(n))\n",
    "carry = 1 # to increment middle value of the array \n",
    "for i in range(ceil(len(s)/2)-1,0,-1):\n",
    "    if n[i] + carry == 10: #if the array [999] then output [1001]\n",
    "        n[i-1] = 0\n",
    "        carry = 1\n",
    "    else: # to increment the middle value if [1351] then 1451 output 1441\n",
    "        n[i] += 1\n",
    "        carry = 0\n",
    "        break\n",
    "if carry == 1: # [099] input 1 at position 0 [1099] after iterating [1001]\n",
    "    n.insert(0,1) # insert(position,number to add)\n",
    "for i in range(ceil(len(s)/2),0,-1):# iterating to copy the leftside elements to the right side\n",
    "    n[len(n)-i] = n[i-1]\n",
    "    c == 0\n",
    "if c == 0: # output flag variable\n",
    "    n = [str(i) for i in n]\n",
    "    print(''.join(n))"
   ]
  },
  {
   "cell_type": "code",
   "execution_count": 8,
   "id": "dae21e0b",
   "metadata": {},
   "outputs": [
    {
     "name": "stdout",
     "output_type": "stream",
     "text": [
      "no of convergence: 4\n"
     ]
    }
   ],
   "source": [
    "# Given  a binary matrix consist with 0 and 1 find the count of surroundings 1 around 0\n",
    "# in direction immediate left,immediate right,up and down\n",
    "mat =  [[1,0],[0,1]]\n",
    "count = 0\n",
    "r=len(mat) # To count the rows we find the no of elements in the list\n",
    "c=len(mat[0])# To count the no of columns we find the no of elements in the inner list element of the list\n",
    "for i in range(r):\n",
    "    for j in range(c):\n",
    "        if mat[i][j] == 0:\n",
    "            if j>0 and mat[i][j-1] == 1: #check left (j>0 denotes that 0 the should not be extremely left positon as the count for left is 0)\n",
    "                count += 1\n",
    "            if j<c-1 and mat[i][j+1] == 1: # check right (j<c-1 for not checking if 0 exist in extreme right)\n",
    "                count += 1\n",
    "            if i>0 and mat[i-1][j] == 1: # check up (i>0 for not checking upper direction )\n",
    "                count += 1\n",
    "            if i<r-1 and mat[i+1][j] == 1: #check down (i<r-1 for not checking in extreme down direction)\n",
    "                count += 1\n",
    "print(\"no of convergence:\",count)"
   ]
  },
  {
   "cell_type": "code",
   "execution_count": 10,
   "id": "3d4feffc",
   "metadata": {},
   "outputs": [
    {
     "name": "stdout",
     "output_type": "stream",
     "text": [
      "True\n"
     ]
    }
   ],
   "source": [
    "# Given a multi dimensional matrix find if it is symmetrix i.e.(if it is equal to its transpose)\n",
    "matrix = [[1,2,3],[2,4,5],[3, 5, 8]]\n",
    "c = len(matrix[0])\n",
    "r = len(matrix)\n",
    "for i in range(r):\n",
    "    for j in range(c):\n",
    "        if matrix[i][j] != matrix[j][i]: # not equal to as we will check all the value in array otherwise it will always return true\n",
    "            print(False)\n",
    "print(True)"
   ]
  },
  {
   "cell_type": "code",
   "execution_count": 3,
   "id": "22e8ba7f",
   "metadata": {},
   "outputs": [
    {
     "name": "stdout",
     "output_type": "stream",
     "text": [
      "[[3, 6, 9], [2, 5, 8], [1, 4, 7]]\n"
     ]
    }
   ],
   "source": [
    "#Given a square matrix of non negative integers\n",
    "#Rotate it by 90 degree in anticlockwose direction\n",
    "inputArray = [[1,2,3],[4,5,6],[7,8,9]]\n",
    "for i in range(len(inputArray)): # first iterate through the matrix\n",
    "    for j in range(0,i): \n",
    "        inputArray[i][j],inputArray[j][i] = inputArray[j][i],inputArray[i][j] # swap the data means to create a transpose the matrix\n",
    "inputArray.reverse() # reverse the order to create it 90 degree anticlockwise direction\n",
    "print(inputArray)"
   ]
  },
  {
   "cell_type": "code",
   "execution_count": 4,
   "id": "08c41086",
   "metadata": {},
   "outputs": [
    {
     "name": "stdout",
     "output_type": "stream",
     "text": [
      "[[0, 2, 0, 4], [0, 0, 0, 0], [0, 0, 0, 0]]\n"
     ]
    }
   ],
   "source": [
    "#given an 'N' X 'M' matrix if an element is 0 set its entire rows and column to 0s and print the matrix\n",
    "matrix = [[1,2,3,4],[5,6,0,8],[0,1,2,3]]\n",
    "r = len(matrix) \n",
    "c = len(matrix[0])\n",
    "a = [0 for _ in range(0,r)] # initialize a row with 0\n",
    "b = [0 for _ in range(0,c)] # initialize a column with 0\n",
    "# with transversing we found (i,j) index which contain 0\n",
    "# we mark ith index i.e row of that value as 1\n",
    "# we mark jth index i.e. column of that value as 1\n",
    "for i in range(0,r):\n",
    "    for j in range(0,c): \n",
    "        if matrix[i][j] == 0: \n",
    "            a[i] = 1\n",
    "            b[j] = 1\n",
    "# Then we replace the values as 1 with 0 and return the matrix\n",
    "for i in range(0,r):\n",
    "    for j in range(0,c):\n",
    "        if (a[i] or b[j]):\n",
    "            matrix[i][j] = 0\n",
    "print(matrix)"
   ]
  },
  {
   "cell_type": "code",
   "execution_count": 5,
   "id": "2c5b3cce",
   "metadata": {},
   "outputs": [
    {
     "name": "stdout",
     "output_type": "stream",
     "text": [
      "1 2 3 6 9 12 11 10 7 4 5 8\n"
     ]
    }
   ],
   "source": [
    "# To print the matrix in the spiral order format\n",
    "mat = [[1,2,3],[4,5,6],[7,8,9],[10,11,12]]\n",
    "a = []\n",
    "# To print in spiral order initialize 4 variable in matrix  \n",
    "top = 0 # denotes the first row in the matrix\n",
    "down = len(mat) # last row of the matrix \n",
    "left = 0 # first column\n",
    "right = len(mat[0]) # last column\n",
    "dir = 0 # the direction in which we will transverse\n",
    "while(down>top and right>left): # down and right pointer should be greater than top and left pointer\n",
    "    if dir == 0: # directions 1. left to right in the top matrix\n",
    "        for i in range(left,right):\n",
    "            a.append(mat[top][i])\n",
    "        top += 1 # append it to the next row for the next cycle\n",
    "    elif dir == 1: # directions 2. top to down in the top matrix\n",
    "        for i in range(top,down):\n",
    "            a.append(mat[i][right-1])\n",
    "        right -= 1\n",
    "    elif dir == 2: # directions 3. right to left in the matrix\n",
    "        for i in range(right-1,left-1,-1):\n",
    "            a.append(mat[down-1][i])\n",
    "        down -= 1 # decrement from last row to secound last\n",
    "    elif dir == 3: # directions 4. down to top in the matrix\n",
    "        for i in range(down-1,top-1,-1):\n",
    "            a.append(mat[i][left])\n",
    "        left += 1\n",
    "    dir = (dir+1) % 4 # for cycle we iterate with the help of mod operator as 0%4 is 0 and 1%4 is 1\n",
    "s = \" \".join([str(k) for k in a]) # print it in the form of string\n",
    "print(s)"
   ]
  },
  {
   "cell_type": "code",
   "execution_count": 6,
   "id": "863f1de9",
   "metadata": {},
   "outputs": [
    {
     "name": "stdout",
     "output_type": "stream",
     "text": [
      "2\n"
     ]
    }
   ],
   "source": [
    "# Given an array print the min number of elements to remove from array such that it contain only distinct elements\n",
    "arr = [1,1,2,2,4,5,6]\n",
    "b = list(set(arr))\n",
    "print(len(arr)-len(b))"
   ]
  },
  {
   "cell_type": "code",
   "execution_count": 10,
   "id": "02ebc765",
   "metadata": {},
   "outputs": [
    {
     "name": "stdout",
     "output_type": "stream",
     "text": [
      "D\n"
     ]
    }
   ],
   "source": [
    "# Given an string print first unique character of the string and if there no unique character print the first char of string\n",
    "str = 'aDcadhc'\n",
    "d = {} # intilize with dict\n",
    "# I did it with ordered dict first but it was not passing as a optmal code 10/11 TEST CASE \n",
    "for char in str:# char in string\n",
    "#If the key char is not found in the dictionary, it returns the default value, which is specified as 0 in this case. Then, 1 is added to the result.\n",
    "    d[char] = d.get(char,0) + 1\n",
    "for char in str:\n",
    "    if d[char] == 1:\n",
    "        print(char)\n",
    "        break\n",
    "else:\n",
    "    print(str[0]) # IF THERE IS NO NON REPEATING VALUE RETURN STR[0]"
   ]
  },
  {
   "cell_type": "code",
   "execution_count": 12,
   "id": "48330f2a",
   "metadata": {},
   "outputs": [
    {
     "name": "stdout",
     "output_type": "stream",
     "text": [
      "D\n"
     ]
    }
   ],
   "source": [
    "# Given an string print first unique character of the string and if there no unique character print the first char of string\n",
    "# This is my approach of the previous question with the help of ordered dicitionary from collection module\n",
    "from collections import *\n",
    "str = 'aDcadhc'\n",
    "a = list(str) # convert it into list\n",
    "d = OrderedDict() # ordered dictionary which are in the order of key insertion in the dictionary\n",
    "for i in a: \n",
    "    d[i] = a.count(i) # count method of the list as the value in the dictionary\n",
    "for key,value in d.items():  # key value pairing\n",
    "    if value == 1: # if count that means its the first unique character in the string\n",
    "        print(key)\n",
    "        break\n",
    "else:\n",
    "    print(str[0]) # else if there is no non repeating value print first string character\n",
    "#note this one not an optimal code only passes in 10/11 test case due to time limit exceded"
   ]
  },
  {
   "cell_type": "code",
   "execution_count": 14,
   "id": "fe12a792",
   "metadata": {},
   "outputs": [
    {
     "name": "stdout",
     "output_type": "stream",
     "text": [
      "D\n"
     ]
    }
   ],
   "source": [
    "# Another approch with ordered dictionar optimal code (No error)\n",
    "from collections import *\n",
    "str = 'aDcadhc'\n",
    "d = OrderedDict() # ordered dictionary which are in the order of key insertion in the dictionary\n",
    "for i in str:\n",
    "    if i in d: \n",
    "        d[i] += 1 # count if the char in dict  \n",
    "    else:\n",
    "        d[i] = 1 # else add the char in the dict with the count 1\n",
    "for key,value in d.items():  # key value pairing\n",
    "    if value == 1: # if count that means its the first unique character in the string\n",
    "        print(key)\n",
    "        break\n",
    "else:\n",
    "    print(str[0]) # else if there is no non repeating value print first string character"
   ]
  },
  {
   "cell_type": "code",
   "execution_count": 15,
   "id": "c0e8a8a2",
   "metadata": {},
   "outputs": [
    {
     "name": "stdout",
     "output_type": "stream",
     "text": [
      "2\n"
     ]
    }
   ],
   "source": [
    "#To find the length of longest subarray whose sum is 0\n",
    "arr = [1,3,-1,4,-4]\n",
    "max_len = 0 # initialize the result\n",
    "for i in range(len(arr)): \n",
    "    cur_s = 0 # this will intialise the sum with every possible array\n",
    "    for j in range(i,len(arr)):\n",
    "        cur_s += arr[j] # summation of every sub array\n",
    "        if cur_s == 0: \n",
    "            max_len = max(max_len,j-i+1) # updating the max_len with every sub array equal to zero\n",
    "print(max_len) \n",
    "# note this one is O(N*2) time complexity use dictionary(we use this as Hashing data structure) for more efficient code "
   ]
  },
  {
   "cell_type": "code",
   "execution_count": 16,
   "id": "78e810f7",
   "metadata": {},
   "outputs": [
    {
     "name": "stdout",
     "output_type": "stream",
     "text": [
      "2\n"
     ]
    }
   ],
   "source": [
    "# This is more efficient another approach we did with hash mapping data structure i.e. dictionay in python\n",
    "# logic behind this approach\n",
    "# sum from 0 to i(some index) in the array\n",
    "# then we sum in from 0 to j (some index after i) in the same array\n",
    "# we found that sum from 0 to i and 0 to j gives us the same sum \n",
    "# means the sub array we get between ith and jth column has the sum equal to zero\n",
    "# that we just need to find the longest sub array b/w ith and jth index\n",
    "arr = [1,3,-1,4,-4]\n",
    "hashmap = {} # intialise the dict\n",
    "max_len = 0 # initialize the result\n",
    "cur_s = 0 # current sum value\n",
    "for i in range(len(arr)):\n",
    "    cur_s += arr[i]\n",
    "    if cur_s == 0:\n",
    "        max_len = i + 1 # if the sum is 0 at the ith index and len will be i + 1\n",
    "    if cur_s in hashmap:\n",
    "        max_len = max(max_len,i - hashmap[cur_s]) # if the current sum is 0 and it was previously added in the dict\n",
    "# means new ith index - previous added in dict is greater than max_len otherwise it will not be updated to max_len as we need longest sub array \n",
    "    else:\n",
    "        hashmap[cur_s] = i # add the current sum in the dictionary with the ith index\n",
    "print(max_len)"
   ]
  },
  {
   "cell_type": "code",
   "execution_count": 7,
   "id": "b96957bd",
   "metadata": {},
   "outputs": [
    {
     "name": "stdout",
     "output_type": "stream",
     "text": [
      "['abbc', 'abbc'] ['baba', 'abab'] ['dbad']\n"
     ]
    }
   ],
   "source": [
    "#To print the group of anagrams such that string belonging to a particular group are anaagram of each other.\n",
    "from collections import *\n",
    "arr = ['abbc','baba','abab','abbc','dbad'] \n",
    "d = defaultdict(list) # defatlt dict used when if the key is not in dictionary then the default value will be given for it \n",
    "# we iterate through the array and for anagrams we used the sorted order as their keys \n",
    "for i in arr:\n",
    "    d[\"\".join(sorted(i))].append(i) # We used sorted here as it return the list of sorted characters and join will return it as string  \n",
    "print(*d.values())\n"
   ]
  },
  {
   "cell_type": "markdown",
   "id": "919c689a",
   "metadata": {},
   "source": [
    "## Two Pointers"
   ]
  },
  {
   "cell_type": "code",
   "execution_count": 10,
   "id": "49f83394",
   "metadata": {},
   "outputs": [
    {
     "name": "stdout",
     "output_type": "stream",
     "text": [
      "Total Pairs: 2\n"
     ]
    }
   ],
   "source": [
    "# Given an array need to find distinct pair such their sum is equal to the target sum\n",
    "arr = [1,2,3,4,5]\n",
    "target = 6\n",
    "count = 0\n",
    "n = len(arr)\n",
    "i = 0 # one pointer at first element\n",
    "j = n-1 # other pointer at last element\n",
    "while i<j: # create a while loop \n",
    "    if arr[i] + arr[j] == target:\n",
    "        count += 1 # pair found +1\n",
    "        i += 1 # increment first pointer to left position\n",
    "        j -= 1 # decrement other pointer to right position\n",
    "    elif arr[i] + arr[j] < target: \n",
    "        i += 1 # increment first pointer to left if the sum pair is less than target \n",
    "    else:\n",
    "        j -= 1 # decrement other pointer to right if the sum pair is greater than the target\n",
    "if count == 0: # no pair \n",
    "    print(\"Total Pairs:\"-1)\n",
    "else:\n",
    "    print(\"Total Pairs:\",count) # else print count"
   ]
  },
  {
   "cell_type": "code",
   "execution_count": 12,
   "id": "960656fb",
   "metadata": {},
   "outputs": [
    {
     "name": "stdout",
     "output_type": "stream",
     "text": [
      "[-3, -4, 1, 2, 4, 5]\n"
     ]
    }
   ],
   "source": [
    "#To rearrange array elements such that all negative numbers appears before all positive numbers\n",
    "arr = [1,2,-3,-4,4,5]\n",
    "j = 0 # initialize the left most element index \n",
    "for i in range(len(arr)): # iterate through the elements of arr\n",
    "    if arr[i] < 0:  # if we encounter any negative element\n",
    "        if i != j: # also it is not equal to the current element\n",
    "            arr[i],arr[j] = arr[j],arr[i] # then we swap it with leftmost element\n",
    "        j += 1  # increment the leftmost index\n",
    "print(arr)"
   ]
  },
  {
   "cell_type": "code",
   "execution_count": 13,
   "id": "0d3d7b6d",
   "metadata": {},
   "outputs": [
    {
     "name": "stdout",
     "output_type": "stream",
     "text": [
      "16\n"
     ]
    }
   ],
   "source": [
    "# Given an array of sequence of N space seperated non negative integers.Each number of sequence represents the height of a line\n",
    "# Line drawn from the cordinate ('i',0) to ('i','A[i]') i ranges from 1 to N\n",
    "# Find two lines which together with x axis forms a container such that container covers the most area of water\n",
    "height = [4,3,2,1,4] # This is the array containing length\n",
    "i = 0 # pointer at the start\n",
    "j = len(height) - 1 # pointer at the end\n",
    "max1 = 0 # to store the max value of the height\n",
    "while i<j:\n",
    "    w = j-i # line difference\n",
    "    res = w*min(height[i],height[j]) # area of water container\n",
    "    max1 = max(max1,res) # maximum value of the result\n",
    "    if height[i]>height[j]: # if height is greater decrement j \n",
    "        j -= 1\n",
    "    else: # else we increment i \n",
    "        i += 1\n",
    "print(max1)"
   ]
  },
  {
   "cell_type": "code",
   "execution_count": 14,
   "id": "0114e60d",
   "metadata": {},
   "outputs": [
    {
     "name": "stdout",
     "output_type": "stream",
     "text": [
      "True\n"
     ]
    }
   ],
   "source": [
    "# Given Two Strings str1 and str2 find that if str1 is a subsequence of str2\n",
    "s1 = 'AE' \n",
    "s2 = 'BADE' \n",
    "n, m = len(s1), len(s2) # length of both strings\n",
    "i, j = 0, 0 # initiate both pointers at the starting position such that i for str1 and j for str2\n",
    "while (i < n and j < m): # condition for subsequence \n",
    "    if (s1[i] == s2[j]): # if the letters are equal increment i pointer\n",
    "        i += 1 \n",
    "    j += 1 # increment the j pointer for str2 \n",
    "print(i == n) "
   ]
  },
  {
   "cell_type": "markdown",
   "id": "1b0ba722",
   "metadata": {},
   "source": [
    "## Basic Algorithm"
   ]
  },
  {
   "cell_type": "code",
   "execution_count": 15,
   "id": "52276ba4",
   "metadata": {},
   "outputs": [
    {
     "name": "stdout",
     "output_type": "stream",
     "text": [
      "[-1, 1, 2, 3, 4, 5, 6]\n"
     ]
    }
   ],
   "source": [
    "# Insertion Sort\n",
    "# A sorting algorithm in which we split the array virtually in sorted and unsorted part\n",
    "# such that first we insert two element amd compare the current element with its predecessor\n",
    "# swap the position if it is smaller than its predecessor\n",
    "arr = [5,6,4,1,2,3,-1]\n",
    "n = len(arr)\n",
    "for i in range(1,n):\n",
    "    j = i # initiate the  j with i\n",
    "    while arr[j-1] > arr[j] and j>0:\n",
    "        arr[j-1],arr[j] = arr[j],arr[j-1]\n",
    "        j -= 1 # decrement with i \n",
    "print(arr)\n",
    "\n",
    "# O(n^2) Time Complexity for average and worst case (when the array is sorted in reverse)\n",
    "# O(n) Time Complexity for best case (# when the array is already sorted)\n",
    "# O(1) Space Complexity\n",
    "# efficient for small test cases\n",
    "# This algorit"
   ]
  },
  {
   "cell_type": "code",
   "execution_count": 19,
   "id": "bb57481f",
   "metadata": {},
   "outputs": [
    {
     "name": "stdout",
     "output_type": "stream",
     "text": [
      "[-1, 1, 2, 3, 4, 5, 6]\n"
     ]
    }
   ],
   "source": [
    "# Selection Sort\n",
    "# A sorting algorithm in which we repeatdly find the smallest number from the unsorted array/list\n",
    "# And swap it to first position of the unsorted part\n",
    "arr = [5,6,4,1,2,3,-1]\n",
    "n = len(arr)\n",
    "for i in range(n):\n",
    "    j = i\n",
    "    while n>j:\n",
    "        if arr[j] == min(arr[i:]): # arr[i:] to continuously changing the range of i while finding min position\n",
    "            arr[i],arr[j] = arr[j],arr[i] # swap with min number position\n",
    "        j += 1\n",
    "print(arr)\n",
    "# O(n^2) Time Complexity for average and worst case (when the array is sorted in reverse)\n",
    "# O(1) Space Complexity\n",
    "# Do not work on large datasets\n",
    "# Does not preserve the relative order of items with equal keys which means it is not stable."
   ]
  },
  {
   "cell_type": "code",
   "execution_count": 20,
   "id": "485ef113",
   "metadata": {},
   "outputs": [
    {
     "name": "stdout",
     "output_type": "stream",
     "text": [
      "[-1, 1, 2, 3, 4, 5, 6]\n"
     ]
    }
   ],
   "source": [
    "# Bubble Sort\n",
    "# A sorting algorithm in which we repeatedly swap the adjacent elements of the array if they are not in sorted order \n",
    "# such that the highest number is in the last position of unsorted part\n",
    "arr = [5,6,4,1,2,3,-1]\n",
    "n = len(arr)\n",
    "for i in range(n):\n",
    "    c = False # initailize a bolean in the loop\n",
    "# Note after every iteration we are excluding the last postion of unsorted part of the array\n",
    "    for j in range(n-i-1): # iteration of 0 to n-1 as we are using arr[j+1]\n",
    "        if arr[j] > arr[j+1]:\n",
    "            arr[j],arr[j+1] = arr[j+1],arr[j] # swap the position uptil the last position\n",
    "            c = True\n",
    "    if c == False: # if array is already sorted\n",
    "        break\n",
    "print(arr)\n",
    "# O(n^2) Time Complexity \n",
    "# O(1) Space Complexity\n",
    "# Did not work on large datasets\n",
    "# It does not require any extra space (like another data structure or array)\n",
    "# The bubble sort is a stable algorithm"
   ]
  },
  {
   "cell_type": "code",
   "execution_count": null,
   "id": "ded3e866",
   "metadata": {},
   "outputs": [],
   "source": []
  }
 ],
 "metadata": {
  "kernelspec": {
   "display_name": "Python 3 (ipykernel)",
   "language": "python",
   "name": "python3"
  },
  "language_info": {
   "codemirror_mode": {
    "name": "ipython",
    "version": 3
   },
   "file_extension": ".py",
   "mimetype": "text/x-python",
   "name": "python",
   "nbconvert_exporter": "python",
   "pygments_lexer": "ipython3",
   "version": "3.10.9"
  }
 },
 "nbformat": 4,
 "nbformat_minor": 5
}
