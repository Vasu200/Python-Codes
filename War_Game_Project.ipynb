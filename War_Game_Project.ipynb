{
 "cells": [
  {
   "cell_type": "markdown",
   "id": "2d105ec3",
   "metadata": {},
   "source": [
    "****War Game****"
   ]
  },
  {
   "cell_type": "code",
   "execution_count": 1,
   "id": "e682aeec",
   "metadata": {},
   "outputs": [],
   "source": [
    "import random\n",
    "ranks = ('Two','Three','Four','Five','Six','Seven','Eight','Nine','Ten','Jack','Queen','King','Ace')\n",
    "suits = ('Heart','Spades','Clubs','Diamond')\n",
    "values = {'Two': 2,'Three':3,'Four':4,'Five':5,'Six':6,'Seven':7,'Eight':8,'Nine':9,'Ten':10,'Jack':11,\n",
    "          'Queen':12,'King':13,'Ace':14}"
   ]
  },
  {
   "cell_type": "code",
   "execution_count": 2,
   "id": "497e7b55",
   "metadata": {},
   "outputs": [],
   "source": [
    "class Card:\n",
    "    \n",
    "    def __init__(self,suit,rank):\n",
    "        self.suit=suit\n",
    "        self.rank=rank\n",
    "        self.values=values[rank]\n",
    "    def __str__(self):\n",
    "        return self.rank + ' of ' + self.suit   \n",
    "    "
   ]
  },
  {
   "cell_type": "code",
   "execution_count": 34,
   "id": "d808b32d",
   "metadata": {},
   "outputs": [
    {
     "name": "stdout",
     "output_type": "stream",
     "text": [
      "Jack of Heart\n"
     ]
    }
   ],
   "source": [
    "a = Card(\"Heart\",\"Jack\")\n",
    "print(a)"
   ]
  },
  {
   "cell_type": "code",
   "execution_count": 35,
   "id": "03203095",
   "metadata": {},
   "outputs": [
    {
     "data": {
      "text/plain": [
       "11"
      ]
     },
     "execution_count": 35,
     "metadata": {},
     "output_type": "execute_result"
    }
   ],
   "source": [
    "a.values"
   ]
  },
  {
   "cell_type": "code",
   "execution_count": 3,
   "id": "a8c45ad1",
   "metadata": {},
   "outputs": [],
   "source": [
    "class Deck:\n",
    "    def __init__(self):\n",
    "        self.alldeck=[]\n",
    "        for suit in suits:\n",
    "            for rank in ranks:\n",
    "                createdcard = Card(suit,rank)\n",
    "                self.alldeck.append(createdcard)\n",
    "    def shuffle(self):\n",
    "        random.shuffle(self.alldeck)\n",
    "        \n",
    "    def dealone(self):\n",
    "        return self.alldeck.pop()\n",
    "                "
   ]
  },
  {
   "cell_type": "code",
   "execution_count": 37,
   "id": "582a9f54",
   "metadata": {},
   "outputs": [],
   "source": [
    "new_deck = Deck()"
   ]
  },
  {
   "cell_type": "code",
   "execution_count": 38,
   "id": "7859bb6e",
   "metadata": {},
   "outputs": [
    {
     "name": "stdout",
     "output_type": "stream",
     "text": [
      "Two of Heart\n"
     ]
    }
   ],
   "source": [
    "print(new_deck.alldeck[0])"
   ]
  },
  {
   "cell_type": "code",
   "execution_count": 39,
   "id": "d4c611d8",
   "metadata": {},
   "outputs": [],
   "source": [
    "new_deck.shuffle()"
   ]
  },
  {
   "cell_type": "code",
   "execution_count": 40,
   "id": "69c41feb",
   "metadata": {},
   "outputs": [
    {
     "name": "stdout",
     "output_type": "stream",
     "text": [
      "Two of Heart\n"
     ]
    }
   ],
   "source": [
    "print(new_deck.alldeck[0])"
   ]
  },
  {
   "cell_type": "code",
   "execution_count": 41,
   "id": "36db3cd7",
   "metadata": {},
   "outputs": [],
   "source": [
    "p=new_deck.dealone()"
   ]
  },
  {
   "cell_type": "code",
   "execution_count": 42,
   "id": "3e3b7b14",
   "metadata": {},
   "outputs": [
    {
     "name": "stdout",
     "output_type": "stream",
     "text": [
      "Six of Clubs\n"
     ]
    }
   ],
   "source": [
    "print(p)"
   ]
  },
  {
   "cell_type": "code",
   "execution_count": 4,
   "id": "31d0ab97",
   "metadata": {},
   "outputs": [],
   "source": [
    "class Player:\n",
    "    def __init__(self,name):\n",
    "        self.name = name\n",
    "        self.allcard = []\n",
    "    def remove_one(self):\n",
    "        return self.allcard.pop(0)\n",
    "    def add_card(self,mycard):\n",
    "        if type(mycard) == type([]):\n",
    "            return self.allcard.extend(mycard)\n",
    "        else:\n",
    "            return self.allcard.append(mycard)\n",
    "    def __str__(self):\n",
    "        return f' Player {self.name} has {len(self.allcard)} no of cards.'"
   ]
  },
  {
   "cell_type": "code",
   "execution_count": 44,
   "id": "7d868c6e",
   "metadata": {},
   "outputs": [
    {
     "name": "stdout",
     "output_type": "stream",
     "text": [
      " Player Vasu has 0 no of cards.\n"
     ]
    }
   ],
   "source": [
    "new_player = Player('Vasu')\n",
    "print(new_player)"
   ]
  },
  {
   "cell_type": "code",
   "execution_count": 45,
   "id": "56f2cdf8",
   "metadata": {},
   "outputs": [],
   "source": [
    "new_player.add_card([1,2])"
   ]
  },
  {
   "cell_type": "code",
   "execution_count": 46,
   "id": "4531ca46",
   "metadata": {},
   "outputs": [
    {
     "name": "stdout",
     "output_type": "stream",
     "text": [
      " Player Vasu has 2 no of cards.\n"
     ]
    }
   ],
   "source": [
    "print(new_player)"
   ]
  },
  {
   "cell_type": "code",
   "execution_count": 47,
   "id": "40a19cdc",
   "metadata": {},
   "outputs": [
    {
     "data": {
      "text/plain": [
       "1"
      ]
     },
     "execution_count": 47,
     "metadata": {},
     "output_type": "execute_result"
    }
   ],
   "source": [
    "new_player.remove_one()"
   ]
  },
  {
   "cell_type": "code",
   "execution_count": 5,
   "id": "bc8be5f0",
   "metadata": {},
   "outputs": [],
   "source": [
    "# game logic\n",
    "p1 = Player(\"One\")\n",
    "p2 = Player(\"Two\")\n",
    "p_deck = Deck()\n",
    "p_deck.shuffle()\n",
    "\n",
    "for i in range(26):\n",
    "    p1.add_card(p_deck.dealone())\n",
    "    p2.add_card(p_deck.dealone())\n",
    "    "
   ]
  },
  {
   "cell_type": "code",
   "execution_count": 6,
   "id": "8e381ad7",
   "metadata": {},
   "outputs": [
    {
     "name": "stdout",
     "output_type": "stream",
     "text": [
      "this is round 1\n",
      "this is round 2\n",
      "this is round 3\n",
      "this is round 4\n",
      "this is round 5\n",
      "this is round 6\n",
      "this is round 7\n",
      "this is round 8\n",
      "this is round 9\n",
      "this is round 10\n",
      "this is round 11\n",
      "this is round 12\n",
      "this is round 13\n",
      "this is round 14\n",
      "this is round 15\n",
      "this is round 16\n",
      "this is round 17\n",
      "this is round 18\n",
      "this is round 19\n",
      "this is round 20\n",
      "this is round 21\n",
      "this is round 22\n",
      "this is round 23\n",
      "this is round 24\n",
      "this is round 25\n",
      "this is round 26\n",
      "this is round 27\n",
      "this is round 28\n",
      "this is round 29\n",
      "this is round 30\n",
      "this is round 31\n",
      "this is round 32\n",
      "this is round 33\n",
      "this is round 34\n",
      "War\n",
      "this is round 35\n",
      "War\n",
      "this is round 36\n",
      "this is round 37\n",
      "this is round 38\n",
      "this is round 39\n",
      "this is round 40\n",
      "this is round 41\n",
      "this is round 42\n",
      "War\n",
      "player2 unable to play\n",
      "player1 wins\n"
     ]
    }
   ],
   "source": [
    "game_on = True\n",
    "r = 0\n",
    "while game_on:\n",
    "    r+=1\n",
    "    print(f'this is round {r}')\n",
    "    if len(p1.allcard) == 0:\n",
    "        print(\"player 1 lost player 2 wins\")\n",
    "        game_on = False\n",
    "        break\n",
    "    if len(p2.allcard) == 0:\n",
    "        print(\"player 2 lost player 1 wins\")\n",
    "        game_on = False\n",
    "        break\n",
    "    p_one_cards = []\n",
    "    p_one_cards.append(p1.remove_one())\n",
    "    p_two_cards = []\n",
    "    p_two_cards.append(p2.remove_one())\n",
    "    \n",
    "    at_war = True\n",
    "    while at_war :\n",
    "        if p_one_cards[-1].values < p_two_cards[-1].values:\n",
    "            p2.add_card(p_one_cards)\n",
    "            p2.add_card(p_two_cards)\n",
    "            at_war = False\n",
    "        elif p_one_cards[-1].values > p_two_cards[-1].values:\n",
    "            p1.add_card(p_one_cards)\n",
    "            p1.add_card(p_two_cards)\n",
    "            at_war = False\n",
    "        else:\n",
    "            print(\"War\")\n",
    "            if len(p1.allcard) < 5:\n",
    "                print(\"player1 unable to play\")\n",
    "                print(\"player2 wins\")\n",
    "                game_on = False\n",
    "                break\n",
    "            if len(p2.allcard) < 5:\n",
    "                print(\"player2 unable to play\")\n",
    "                print(\"player1 wins\")\n",
    "                game_on = False\n",
    "                break\n",
    "            else:\n",
    "                for num in range(5):\n",
    "                    p_one_cards.append(p1.remove_one())\n",
    "                    p_two_cards.append(p2.remove_one())\n",
    "                    "
   ]
  },
  {
   "cell_type": "code",
   "execution_count": null,
   "id": "099c5e9b",
   "metadata": {},
   "outputs": [],
   "source": []
  }
 ],
 "metadata": {
  "kernelspec": {
   "display_name": "Python 3 (ipykernel)",
   "language": "python",
   "name": "python3"
  },
  "language_info": {
   "codemirror_mode": {
    "name": "ipython",
    "version": 3
   },
   "file_extension": ".py",
   "mimetype": "text/x-python",
   "name": "python",
   "nbconvert_exporter": "python",
   "pygments_lexer": "ipython3",
   "version": "3.10.9"
  }
 },
 "nbformat": 4,
 "nbformat_minor": 5
}
